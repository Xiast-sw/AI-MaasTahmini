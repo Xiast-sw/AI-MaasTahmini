{
 "cells": [
  {
   "cell_type": "code",
   "execution_count": 18,
   "id": "058a7a38",
   "metadata": {},
   "outputs": [],
   "source": [
    "import pandas as pd\n",
    "import numpy as np\n",
    "import tkinter as tk\n",
    "from tkinter import ttk\n",
    "from sklearn.preprocessing import PolynomialFeatures\n",
    "from sklearn.linear_model import LinearRegression\n",
    "from sklearn.model_selection import train_test_split"
   ]
  },
  {
   "cell_type": "code",
   "execution_count": 19,
   "id": "1d80af6b",
   "metadata": {},
   "outputs": [],
   "source": [
    "# Rastgele veri oluşturma\n",
    "np.random.seed(0)\n",
    "data = {\n",
    "    'deneyim': np.random.randint(0, 21, size=100),\n",
    "    'pozisyon': np.random.choice(['Junior Developer', 'Mid Developer', 'Senior Developer'], size=100),\n",
    "    'egitim_duzeyi': np.random.choice(['Lise', 'Ön Lisans', 'Lisans'], size=100),\n",
    "    'yas': np.random.randint(20, 60, size=100),\n",
    "    'sehir': np.random.choice(['İstanbul', 'Ankara', 'İzmir'], size=100),\n",
    "    'maas': np.random.randint(3000, 15000, size=100)\n",
    "}\n",
    "\n",
    "df = pd.DataFrame(data)\n",
    "\n",
    "# Kategorik değişkenleri sayısal hale getirme\n",
    "df = pd.get_dummies(df, columns=['pozisyon', 'egitim_duzeyi', 'sehir'], drop_first=True)\n",
    "\n",
    "# Özellikler ve hedef değişken\n",
    "X = df.drop('maas', axis=1)\n",
    "y = df['maas']"
   ]
  },
  {
   "cell_type": "code",
   "execution_count": 20,
   "id": "39111de6",
   "metadata": {},
   "outputs": [],
   "source": [
    "# Eğitim ve test setlerine ayırma\n",
    "X_train, X_test, y_train, y_test = train_test_split(X, y, test_size=0.2, random_state=42)\n"
   ]
  },
  {
   "cell_type": "code",
   "execution_count": 21,
   "id": "91574042",
   "metadata": {},
   "outputs": [
    {
     "data": {
      "text/plain": [
       "LinearRegression()"
      ]
     },
     "execution_count": 21,
     "metadata": {},
     "output_type": "execute_result"
    }
   ],
   "source": [
    "# Polinom özellikler oluşturma\n",
    "poly = PolynomialFeatures(degree=2)\n",
    "X_train_poly = poly.fit_transform(X_train)\n",
    "\n",
    "# Modeli oluşturma ve eğitim\n",
    "model = LinearRegression()\n",
    "model.fit(X_train_poly, y_train)\n"
   ]
  },
  {
   "cell_type": "code",
   "execution_count": 22,
   "id": "d01f7b22",
   "metadata": {},
   "outputs": [],
   "source": [
    "# Tkinter ile kullanıcı arayüzü oluşturma\n",
    "def predict_salary():\n",
    "    # Kullanıcıdan veri alma\n",
    "    deneyim = int(entry_deneyim.get())\n",
    "    pozisyon = combo_pozisyon.get()\n",
    "    egitim = combo_egitim.get()\n",
    "    yas = int(entry_yas.get())\n",
    "    sehir = combo_sehir.get()\n",
    "\n",
    "    # Kullanıcının girdiği verileri bir DataFrame olarak oluşturma\n",
    "    user_data = {\n",
    "        'deneyim': [deneyim],\n",
    "        'pozisyon': [pozisyon],\n",
    "        'egitim_duzeyi': [egitim],\n",
    "        'yas': [yas],\n",
    "        'sehir': [sehir]\n",
    "    }\n",
    "    user_df = pd.DataFrame(user_data)\n",
    "\n",
    "    # Kategorik değişkenleri sayısal hale getirme\n",
    "    user_df = pd.get_dummies(user_df, columns=['pozisyon', 'egitim_duzeyi', 'sehir'], drop_first=True)\n",
    "\n",
    "    # Modeli tahmin etmek için uygun hale getirme\n",
    "    user_df = user_df.reindex(columns=X_train.columns, fill_value=0)\n",
    "\n",
    "    # Tahmin yap\n",
    "    salary_prediction = model.predict(poly.transform(user_df))\n",
    "    label_sonuc.config(text=f\"Tahmin Edilen Maaş: {salary_prediction[0]:.2f}\")\n",
    "\n",
    "# Tkinter penceresi\n",
    "root = tk.Tk()\n",
    "root.title(\"Maaş Tahmin Aracı\")\n",
    "\n",
    "# Girdi alanları\n",
    "label_deneyim = ttk.Label(root, text=\"Deneyim Yılı:\")\n",
    "label_deneyim.pack()\n",
    "entry_deneyim = ttk.Entry(root)\n",
    "entry_deneyim.pack()\n",
    "\n",
    "label_pozisyon = ttk.Label(root, text=\"Pozisyon:\")\n",
    "label_pozisyon.pack()\n",
    "combo_pozisyon = ttk.Combobox(root, values=['Junior Developer', 'Mid Developer', 'Senior Developer'])\n",
    "combo_pozisyon.pack()\n",
    "\n",
    "label_egitim = ttk.Label(root, text=\"Eğitim Düzeyi:\")\n",
    "label_egitim.pack()\n",
    "combo_egitim = ttk.Combobox(root, values=['Lise', 'Ön Lisans', 'Lisans'])\n",
    "combo_egitim.pack()\n",
    "\n",
    "label_yas = ttk.Label(root, text=\"Yaş:\")\n",
    "label_yas.pack()\n",
    "entry_yas = ttk.Entry(root)\n",
    "entry_yas.pack()\n",
    "\n",
    "label_sehir = ttk.Label(root, text=\"Şehir:\")\n",
    "label_sehir.pack()\n",
    "combo_sehir = ttk.Combobox(root, values=['İstanbul', 'Ankara', 'İzmir'])\n",
    "combo_sehir.pack()\n",
    "\n",
    "# Tahmin yap butonu\n",
    "button_tahmin = ttk.Button(root, text=\"Maaş Tahmini Yap\", command=predict_salary)\n",
    "button_tahmin.pack()\n",
    "\n",
    "# Sonuç label'ı\n",
    "label_sonuc = ttk.Label(root, text=\"\")\n",
    "label_sonuc.pack()\n",
    "\n",
    "root.mainloop()"
   ]
  }
 ],
 "metadata": {
  "kernelspec": {
   "display_name": "Python 3 (ipykernel)",
   "language": "python",
   "name": "python3"
  },
  "language_info": {
   "codemirror_mode": {
    "name": "ipython",
    "version": 3
   },
   "file_extension": ".py",
   "mimetype": "text/x-python",
   "name": "python",
   "nbconvert_exporter": "python",
   "pygments_lexer": "ipython3",
   "version": "3.9.13"
  }
 },
 "nbformat": 4,
 "nbformat_minor": 5
}
